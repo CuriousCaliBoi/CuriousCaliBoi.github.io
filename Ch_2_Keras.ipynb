{
  "nbformat": 4,
  "nbformat_minor": 0,
  "metadata": {
    "colab": {
      "provenance": [],
      "authorship_tag": "ABX9TyMJqXxdoMbvLdj1Kq+kbtMF",
      "include_colab_link": true
    },
    "kernelspec": {
      "name": "python3",
      "display_name": "Python 3"
    },
    "language_info": {
      "name": "python"
    }
  },
  "cells": [
    {
      "cell_type": "markdown",
      "metadata": {
        "id": "view-in-github",
        "colab_type": "text"
      },
      "source": [
        "<a href=\"https://colab.research.google.com/github/CuriousCaliBoi/CuriousCaliBoi.github.io/blob/master/Ch_2_Keras.ipynb\" target=\"_parent\"><img src=\"https://colab.research.google.com/assets/colab-badge.svg\" alt=\"Open In Colab\"/></a>"
      ]
    },
    {
      "cell_type": "code",
      "execution_count": null,
      "metadata": {
        "colab": {
          "base_uri": "https://localhost:8080/"
        },
        "id": "qeAds3C23dP4",
        "outputId": "2d755056-30e2-40f4-c354-0abf6305c6b3"
      },
      "outputs": [
        {
          "output_type": "stream",
          "name": "stdout",
          "text": [
            "Downloading data from https://storage.googleapis.com/tensorflow/tf-keras-datasets/mnist.npz\n",
            "11490434/11490434 [==============================] - 0s 0us/step\n"
          ]
        }
      ],
      "source": [
        "#Step 1 Download the Data\n",
        "from tensorflow.keras.datasets import mnist\n",
        "(train_images, train_labels), (test_images, test_labels) = mnist.load_data()\n"
      ]
    },
    {
      "cell_type": "code",
      "source": [
        "train_images.shape\n",
        "# 60,000 28 by 28 images\n",
        "train_labels[0]\n",
        "# corresponding \"answer\" or output"
      ],
      "metadata": {
        "colab": {
          "base_uri": "https://localhost:8080/"
        },
        "id": "Gq6OHXIu88eN",
        "outputId": "befb426b-0a5b-46ce-e407-de495eab12fa"
      },
      "execution_count": null,
      "outputs": [
        {
          "output_type": "execute_result",
          "data": {
            "text/plain": [
              "5"
            ]
          },
          "metadata": {},
          "execution_count": 7
        }
      ]
    },
    {
      "cell_type": "code",
      "source": [
        "#Step 2 Build the NN architecture\n",
        "from tensorflow import keras\n",
        "from tensorflow.keras import layers\n",
        "model = keras.Sequential([\n",
        "layers.Dense(512, activation=\"relu\"),\n",
        "layers.Dense(10, activation=\"softmax\")\n",
        "])\n",
        "\n",
        "# We just created 512 NEURONS holy fuckkkk and they're all connected. any reaosn why 512? I can tinker with this model and test performance on all fronts\n"
      ],
      "metadata": {
        "id": "eHesb2Fy-MRN"
      },
      "execution_count": null,
      "outputs": []
    },
    {
      "cell_type": "code",
      "source": [
        "#Step 3 Compilation step\n",
        "model.compile(optimizer = 'SGD', loss = 'MSE', metrics = ['accuracy'])"
      ],
      "metadata": {
        "id": "TJ8CiBsDAqdj"
      },
      "execution_count": null,
      "outputs": []
    },
    {
      "cell_type": "code",
      "source": [
        "# wait how tf can we do = and this is working\n",
        "# Well anyway this is step 4 preparing the iamge data\n",
        "# Now that i'm more comfortable having cooler thoughts on the topic\n",
        "# ansh going to the museum twice\n",
        "# when I transition fro integer to decimal theres going to be information loss depending on the value\n",
        "# what integer would lose the most information?\n",
        "# Is it possible to guess before hand?\n",
        "# Or would I just brute force it\n",
        "# Check it out!\n",
        "train_images = train_images.reshape((60000,784))\n",
        "train_images = train_images.astype('float32')/255\n",
        "\n",
        "test_images = test_images.reshape((10000,784))\n",
        "test_images = test_images.astype('float32')/255\n"
      ],
      "metadata": {
        "id": "jSvc5AfdDjB5"
      },
      "execution_count": null,
      "outputs": []
    },
    {
      "cell_type": "code",
      "source": [
        "model.fit(train_images,train_labels, epochs = 5, batch_size = 128)\n"
      ],
      "metadata": {
        "colab": {
          "base_uri": "https://localhost:8080/"
        },
        "id": "40ZSt1PiMQnZ",
        "outputId": "06691570-ed0b-4667-c853-b691ca81425c"
      },
      "execution_count": null,
      "outputs": [
        {
          "output_type": "stream",
          "name": "stdout",
          "text": [
            "Epoch 1/5\n",
            "469/469 [==============================] - 3s 5ms/step - loss: 27.3044 - accuracy: 0.1079\n",
            "Epoch 2/5\n",
            "469/469 [==============================] - 3s 6ms/step - loss: 27.3045 - accuracy: 0.1079\n",
            "Epoch 3/5\n",
            "469/469 [==============================] - 2s 5ms/step - loss: 27.3044 - accuracy: 0.1078\n",
            "Epoch 4/5\n",
            "469/469 [==============================] - 2s 5ms/step - loss: 27.3045 - accuracy: 0.1079\n",
            "Epoch 5/5\n",
            "469/469 [==============================] - 2s 5ms/step - loss: 27.3045 - accuracy: 0.1080\n"
          ]
        },
        {
          "output_type": "execute_result",
          "data": {
            "text/plain": [
              "<keras.callbacks.History at 0x7ff183747dc0>"
            ]
          },
          "metadata": {},
          "execution_count": 18
        }
      ]
    },
    {
      "cell_type": "code",
      "source": [
        "#Trying out francois compilation step\n",
        "model_2 = keras.Sequential([\n",
        "layers.Dense(512, activation=\"relu\"),\n",
        "layers.Dense(10, activation=\"softmax\")\n",
        "])\n",
        "\n",
        "model.compile(optimizer = 'rmsprop', loss = 'sparse_categorical_crossentropy', metrics = ['accuracy'])\n",
        "\n",
        "model.fit(train_images,train_labels, epochs = 5, batch_size = 128)\n"
      ],
      "metadata": {
        "colab": {
          "base_uri": "https://localhost:8080/",
          "height": 487
        },
        "id": "3NhB6T-YRf3T",
        "outputId": "34254562-615a-4ff3-caac-2cfaf59e05c3"
      },
      "execution_count": null,
      "outputs": [
        {
          "output_type": "stream",
          "name": "stdout",
          "text": [
            "Epoch 1/5\n",
            "469/469 [==============================] - 3s 6ms/step - loss: 2.2338 - accuracy: 0.2633\n",
            "Epoch 2/5\n",
            "469/469 [==============================] - 3s 6ms/step - loss: 1.6613 - accuracy: 0.5950\n",
            "Epoch 3/5\n",
            "469/469 [==============================] - 3s 6ms/step - loss: 1.0373 - accuracy: 0.7521\n",
            "Epoch 4/5\n",
            "469/469 [==============================] - 3s 7ms/step - loss: 0.7437 - accuracy: 0.8126\n",
            "Epoch 5/5\n",
            "469/469 [==============================] - 3s 6ms/step - loss: 0.6015 - accuracy: 0.8412\n"
          ]
        },
        {
          "output_type": "error",
          "ename": "KeyboardInterrupt",
          "evalue": "ignored",
          "traceback": [
            "\u001b[0;31m---------------------------------------------------------------------------\u001b[0m",
            "\u001b[0;31mKeyboardInterrupt\u001b[0m                         Traceback (most recent call last)",
            "\u001b[0;32m<ipython-input-19-c0e753a5b20a>\u001b[0m in \u001b[0;36m<cell line: 9>\u001b[0;34m()\u001b[0m\n\u001b[1;32m      7\u001b[0m \u001b[0mmodel\u001b[0m\u001b[0;34m.\u001b[0m\u001b[0mcompile\u001b[0m\u001b[0;34m(\u001b[0m\u001b[0moptimizer\u001b[0m \u001b[0;34m=\u001b[0m \u001b[0;34m'rmsprop'\u001b[0m\u001b[0;34m,\u001b[0m \u001b[0mloss\u001b[0m \u001b[0;34m=\u001b[0m \u001b[0;34m'sparse_categorical_crossentropy'\u001b[0m\u001b[0;34m,\u001b[0m \u001b[0mmetrics\u001b[0m \u001b[0;34m=\u001b[0m \u001b[0;34m[\u001b[0m\u001b[0;34m'accuracy'\u001b[0m\u001b[0;34m]\u001b[0m\u001b[0;34m)\u001b[0m\u001b[0;34m\u001b[0m\u001b[0;34m\u001b[0m\u001b[0m\n\u001b[1;32m      8\u001b[0m \u001b[0;34m\u001b[0m\u001b[0m\n\u001b[0;32m----> 9\u001b[0;31m \u001b[0mmodel\u001b[0m\u001b[0;34m.\u001b[0m\u001b[0mfit\u001b[0m\u001b[0;34m(\u001b[0m\u001b[0mtrain_images\u001b[0m\u001b[0;34m,\u001b[0m\u001b[0mtrain_labels\u001b[0m\u001b[0;34m,\u001b[0m \u001b[0mepochs\u001b[0m \u001b[0;34m=\u001b[0m \u001b[0;36m5\u001b[0m\u001b[0;34m,\u001b[0m \u001b[0mbatch_size\u001b[0m \u001b[0;34m=\u001b[0m \u001b[0;36m128\u001b[0m\u001b[0;34m)\u001b[0m\u001b[0;34m\u001b[0m\u001b[0;34m\u001b[0m\u001b[0m\n\u001b[0m",
            "\u001b[0;32m/usr/local/lib/python3.10/dist-packages/keras/utils/traceback_utils.py\u001b[0m in \u001b[0;36merror_handler\u001b[0;34m(*args, **kwargs)\u001b[0m\n\u001b[1;32m     63\u001b[0m         \u001b[0mfiltered_tb\u001b[0m \u001b[0;34m=\u001b[0m \u001b[0;32mNone\u001b[0m\u001b[0;34m\u001b[0m\u001b[0;34m\u001b[0m\u001b[0m\n\u001b[1;32m     64\u001b[0m         \u001b[0;32mtry\u001b[0m\u001b[0;34m:\u001b[0m\u001b[0;34m\u001b[0m\u001b[0;34m\u001b[0m\u001b[0m\n\u001b[0;32m---> 65\u001b[0;31m             \u001b[0;32mreturn\u001b[0m \u001b[0mfn\u001b[0m\u001b[0;34m(\u001b[0m\u001b[0;34m*\u001b[0m\u001b[0margs\u001b[0m\u001b[0;34m,\u001b[0m \u001b[0;34m**\u001b[0m\u001b[0mkwargs\u001b[0m\u001b[0;34m)\u001b[0m\u001b[0;34m\u001b[0m\u001b[0;34m\u001b[0m\u001b[0m\n\u001b[0m\u001b[1;32m     66\u001b[0m         \u001b[0;32mexcept\u001b[0m \u001b[0mException\u001b[0m \u001b[0;32mas\u001b[0m \u001b[0me\u001b[0m\u001b[0;34m:\u001b[0m\u001b[0;34m\u001b[0m\u001b[0;34m\u001b[0m\u001b[0m\n\u001b[1;32m     67\u001b[0m             \u001b[0mfiltered_tb\u001b[0m \u001b[0;34m=\u001b[0m \u001b[0m_process_traceback_frames\u001b[0m\u001b[0;34m(\u001b[0m\u001b[0me\u001b[0m\u001b[0;34m.\u001b[0m\u001b[0m__traceback__\u001b[0m\u001b[0;34m)\u001b[0m\u001b[0;34m\u001b[0m\u001b[0;34m\u001b[0m\u001b[0m\n",
            "\u001b[0;31mKeyboardInterrupt\u001b[0m: "
          ]
        }
      ]
    },
    {
      "cell_type": "code",
      "source": [
        "model_2.compile(optimizer = 'rmsprop', loss = 'sparse_categorical_crossentropy', metrics = ['accuracy'])\n",
        "\n",
        "model_2.fit(train_images,train_labels, epochs = 10, batch_size = 128)\n",
        "# I reran this model_2 with 10 epochs there should be a way to track the history of what i've done to the model lol"
      ],
      "metadata": {
        "colab": {
          "base_uri": "https://localhost:8080/"
        },
        "id": "2hOVoQ8tR_ck",
        "outputId": "774ca72d-6446-4f3e-ebda-46490f7cd8de"
      },
      "execution_count": null,
      "outputs": [
        {
          "output_type": "stream",
          "name": "stdout",
          "text": [
            "Epoch 1/10\n",
            "469/469 [==============================] - 4s 7ms/step - loss: 0.5269 - accuracy: 0.8590\n",
            "Epoch 2/10\n",
            "469/469 [==============================] - 3s 6ms/step - loss: 0.4767 - accuracy: 0.8705\n",
            "Epoch 3/10\n",
            "469/469 [==============================] - 3s 6ms/step - loss: 0.4423 - accuracy: 0.8780\n",
            "Epoch 4/10\n",
            "469/469 [==============================] - 3s 6ms/step - loss: 0.4174 - accuracy: 0.8835\n",
            "Epoch 5/10\n",
            "469/469 [==============================] - 3s 7ms/step - loss: 0.3979 - accuracy: 0.8883\n",
            "Epoch 6/10\n",
            "469/469 [==============================] - 3s 6ms/step - loss: 0.3831 - accuracy: 0.8919\n",
            "Epoch 7/10\n",
            "469/469 [==============================] - 3s 6ms/step - loss: 0.3707 - accuracy: 0.8944\n",
            "Epoch 8/10\n",
            "469/469 [==============================] - 3s 6ms/step - loss: 0.3602 - accuracy: 0.8976\n",
            "Epoch 9/10\n",
            "469/469 [==============================] - 3s 7ms/step - loss: 0.3516 - accuracy: 0.8993\n",
            "Epoch 10/10\n",
            "469/469 [==============================] - 3s 6ms/step - loss: 0.3436 - accuracy: 0.9017\n"
          ]
        },
        {
          "output_type": "execute_result",
          "data": {
            "text/plain": [
              "<keras.callbacks.History at 0x7ff18159b010>"
            ]
          },
          "metadata": {},
          "execution_count": 26
        }
      ]
    },
    {
      "cell_type": "code",
      "source": [
        "test_digits = test_images[0:10]\n",
        "predictions = model.predict(test_digits)\n",
        "predictions[0]\n",
        "predictions[0].argmax()\n",
        "# argmax returns index? so happens to line up grrrreat\n",
        "\n",
        "# Lets actually test our model on the test images\n",
        "test_loss, test_acc = model.evaluate(test_images, test_labels)\n",
        "# model.eval returns test_loss and test_acc\n",
        "# loss is osme output idk double check cross entropy\n",
        "print(f\"test_acc: {test_acc}\")\n",
        "\n",
        "# lets test second model too\n",
        "test_loss_2, test_acc_2 = model_2.evaluate(test_images, test_labels)\n",
        "print(f\"test_acc_2:{test_acc_2}\")\n",
        "\n",
        "# after second run model 2 jumps to 81% but probably negated by some overfitting stuff"
      ],
      "metadata": {
        "colab": {
          "base_uri": "https://localhost:8080/"
        },
        "id": "ovEcfrV3SfgI",
        "outputId": "b1dd1d5e-8127-4a7c-f1da-2cbcd45eca6e"
      },
      "execution_count": null,
      "outputs": [
        {
          "output_type": "stream",
          "name": "stdout",
          "text": [
            "1/1 [==============================] - 0s 16ms/step\n",
            "313/313 [==============================] - 1s 2ms/step - loss: 49.9900 - accuracy: 0.7307\n",
            "test_acc: 0.7307000160217285\n",
            "313/313 [==============================] - 1s 2ms/step - loss: 46.2681 - accuracy: 0.8158\n",
            "test_acc_2:0.8158000111579895\n"
          ]
        }
      ]
    }
  ]
}