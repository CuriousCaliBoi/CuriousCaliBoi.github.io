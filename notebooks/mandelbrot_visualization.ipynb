{"cells": [{"cell_type": "markdown", "metadata": {}, "source": ["# Mandelbrot Set Visualization"]}], "metadata": {}, "nbformat": 4, "nbformat_minor": 4}
